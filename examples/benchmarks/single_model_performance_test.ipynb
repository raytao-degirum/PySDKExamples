{
 "cells": [
  {
   "attachments": {},
   "cell_type": "markdown",
   "id": "5c15cb24",
   "metadata": {},
   "source": [
    "![Degirum banner](https://raw.githubusercontent.com/DeGirum/PySDKExamples/main/images/degirum_banner.png)\n",
    "## Performance Test for Single-Model Inference\n",
    "This notebook contains performance measurements for all Orca-based image detection AI models from DeGirum \n",
    "public model zoo\n",
    "\n",
    "This script works with the following inference options:\n",
    "\n",
    "1. Run inference on DeGirum Cloud Platform;\n",
    "2. Run inference on DeGirum AI Server deployed on a localhost or on some computer in your LAN or VPN;\n",
    "3. Run inference on DeGirum ORCA accelerator directly installed on your computer.\n",
    "\n",
    "To try different options, you need to specify the appropriate `hw_location` option.\n",
    "\n",
    "When running this notebook locally, you need to specify your cloud API access token in the [env.ini](../../env.ini) file, located in the same directory as this notebook.\n",
    "\n",
    "When running this notebook in Google Colab, the cloud API access token should be stored in a user secret named `DEGIRUM_CLOUD_TOKEN`."
   ]
  },
  {
   "cell_type": "code",
   "execution_count": null,
   "id": "82692316",
   "metadata": {},
   "outputs": [],
   "source": [
    "# make sure degirum-tools package is installed\n",
    "!pip show degirum-tools || pip install degirum-tools"
   ]
  },
  {
   "attachments": {},
   "cell_type": "markdown",
   "id": "01549d7c-2445-4007-8a89-ac0f3a864530",
   "metadata": {
    "tags": []
   },
   "source": [
    "#### Specify test options here"
   ]
  },
  {
   "cell_type": "code",
   "execution_count": null,
   "id": "da34df11-cbc7-4b00-8994-794a4a6548b4",
   "metadata": {
    "tags": []
   },
   "outputs": [],
   "source": [
    "# hw_location: where you want to run inference\n",
    "#     \"@cloud\" to use DeGirum cloud\n",
    "#     \"@local\" to run on local machine\n",
    "#     IP address for AI server inference\n",
    "# model_zoo_url: url/path for model zoo\n",
    "#     cloud_zoo_url: valid for @cloud, @local, and ai server inference options\n",
    "#     '': ai server serving models from local folder\n",
    "#     path to json file: single model zoo in case of @local inference\n",
    "# iterations: iterations to run for each model\n",
    "# device_type: runtime/device family of models to profile\n",
    "# model_family: family of models to profile\n",
    "hw_location = \"@cloud\"\n",
    "model_zoo_url = \"degirum/public\"\n",
    "iterations = 10  # how many iterations to run for each model\n",
    "device_type = \"N2X/ORCA1\"  # models of which device family to use\n",
    "model_family=\"yolo\""
   ]
  },
  {
   "attachments": {},
   "cell_type": "markdown",
   "id": "5702a045",
   "metadata": {},
   "source": [
    "#### The rest of the cells below should run without any modifications"
   ]
  },
  {
   "cell_type": "code",
   "execution_count": null,
   "id": "75af97ff",
   "metadata": {},
   "outputs": [],
   "source": [
    "import degirum as dg\n",
    "import degirum_tools\n",
    "# list of models to test\n",
    "model_names = dg.list_models(\n",
    "    inference_host_address=hw_location,\n",
    "    zoo_url=model_zoo_url,\n",
    "    token=degirum_tools.get_token(),\n",
    "    device_type=device_type, \n",
    "    model_family=model_family\n",
    "    )\n",
    "# run batch predict for each model and record time measurements\n",
    "results = {}\n",
    "prog = degirum_tools.Progress(len(model_names), speed_units=\"models/s\")\n",
    "for model_name in model_names:\n",
    "    try:\n",
    "        results[model_name] = degirum_tools.model_time_profile(\n",
    "            dg.load_model(\n",
    "                model_name=model_name, \n",
    "                inference_host_address=hw_location,\n",
    "                zoo_url=model_zoo_url,\n",
    "                token=degirum_tools.get_token(),                \n",
    "                ), \n",
    "            iterations if not degirum_tools.get_test_mode() else 2\n",
    "        )\n",
    "    except NotImplementedError:\n",
    "        pass  # skip models for which time profiling is not supported\n",
    "    prog.step()"
   ]
  },
  {
   "cell_type": "code",
   "execution_count": null,
   "id": "1b150507",
   "metadata": {},
   "outputs": [],
   "source": [
    "# print results\n",
    "CW = (62, 19, 16, 16)  # column widths\n",
    "header = f\"{'Model name':{CW[0]}}| {'Postprocess Type':{CW[1]}} | {'Observed FPS':{CW[2]}} | {'Max Possible FPS':{CW[3]}} |\"\n",
    "\n",
    "print(f\"Models    : {len(model_names)}\")\n",
    "print(f\"Iterations: {iterations}\\n\")\n",
    "print(f\"{'-'*len(header)}\")\n",
    "print(header)\n",
    "print(f\"{'-'*len(header)}\")\n",
    "\n",
    "for model_name, result in results.items():\n",
    "    print(\n",
    "        f\"{model_name:{CW[0]}}|\"\n",
    "        + f\" {result.parameters.OutputPostprocessType:{CW[1]}} |\"\n",
    "        + f\" {result.observed_fps:{CW[2]}.1f} |\"\n",
    "        + f\" {result.max_possible_fps:{CW[3]}.1f} |\"\n",
    "    )"
   ]
  }
 ],
 "metadata": {
  "kernelspec": {
   "display_name": "Python (supervision)",
   "language": "python",
   "name": "supervision"
  },
  "language_info": {
   "codemirror_mode": {
    "name": "ipython",
    "version": 3
   },
   "file_extension": ".py",
   "mimetype": "text/x-python",
   "name": "python",
   "nbconvert_exporter": "python",
   "pygments_lexer": "ipython3",
   "version": "3.9.18"
  }
 },
 "nbformat": 4,
 "nbformat_minor": 5
}
