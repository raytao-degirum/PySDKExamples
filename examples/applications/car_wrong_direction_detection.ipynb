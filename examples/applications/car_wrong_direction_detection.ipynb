{
 "cells": [
  {
   "cell_type": "markdown",
   "id": "5c15cb24",
   "metadata": {},
   "source": [
    "![Degirum banner](https://raw.githubusercontent.com/DeGirum/PySDKExamples/main/images/degirum_banner.png)\n",
    "## Detect a Car Going in the Wrong Direction\n",
    "\n",
    "This notebook is an example how to use DeGirum PySDK to detect a car going in the wrong direction\n",
    "using object detection, object tracking, line cross counting, and event detection.\n",
    "When an event is detected, the notification is sent to the notification service of your choice\n",
    "and a video clip around that event is uploaded to S3-compatible storage of your choice.\n",
    "\n",
    "This script works with the following inference options:\n",
    "\n",
    "1. Run inference on DeGirum Cloud Platform;\n",
    "2. Run inference on DeGirum AI Server deployed on a localhost or on some computer in your LAN or VPN;\n",
    "3. Run inference on DeGirum ORCA accelerator directly installed on your computer.\n",
    "\n",
    "To try different options, you need to specify the appropriate `hw_location` option.\n",
    "\n",
    "When running this notebook locally, you need to specify your cloud API access token in the [env.ini](../../env.ini) file, located in the same directory as this notebook.\n",
    "\n",
    "When running this notebook in Google Colab, the cloud API access token should be stored in a user secret named `DEGIRUM_CLOUD_TOKEN`."
   ]
  },
  {
   "cell_type": "code",
   "execution_count": 1,
   "id": "db20b1c2",
   "metadata": {},
   "outputs": [],
   "source": [
    "# make sure degirum-tools package is installed\n",
    "!pip show degirum-tools || pip install degirum-tools"
   ]
  },
  {
   "cell_type": "markdown",
   "id": "01549d7c-2445-4007-8a89-ac0f3a864530",
   "metadata": {
    "tags": []
   },
   "source": [
    "#### Specify video file name, model name, and other options here"
   ]
  },
  {
   "cell_type": "code",
   "execution_count": 2,
   "id": "da34df11-cbc7-4b00-8994-794a4a6548b4",
   "metadata": {
    "tags": []
   },
   "outputs": [],
   "source": [
    "# hw_location: where you want to run inference\n",
    "#     \"@cloud\" to use DeGirum cloud\n",
    "#     \"@local\" to run on local machine\n",
    "#     IP address for AI server inference\n",
    "# model_zoo_url: url/path for model zoo\n",
    "#     cloud_zoo_url: valid for @cloud, @local, and ai server inference options\n",
    "#     '': ai server serving models from local folder\n",
    "#     path to json file: single model zoo in case of @local inference\n",
    "# model_name: name of the model for running AI inference\n",
    "# video_source: video source for inference\n",
    "#     camera index for local camera\n",
    "#     URL of RTSP stream\n",
    "#     URL of YouTube Video\n",
    "#     path to video file (mp4 etc)\n",
    "# cross_line: line that marks the lane crossing. Format: [x_start, y_start, x_end, y_end].\n",
    "# It should be oriented so cars moving in wrong direction would cross it from left to right\n",
    "# when looking towards line end.\n",
    "# clip_duration: duration of the video clip to save, in frames\n",
    "# storage_config: configuration for storing the results in S3-compatible storage\n",
    "# notification_config: Apprise-compatible configuration for sending notifications\n",
    "# (see https://github.com/caronc/apprise for details)\n",
    "import degirum as dg, degirum_tools\n",
    "\n",
    "hw_location = \"@cloud\"\n",
    "model_zoo_url = \"degirum/public\"\n",
    "model_name = \"yolo_v5n_car_det--512x512_quant_n2x_orca1_1\"\n",
    "video_source = (\n",
    "    \"https://raw.githubusercontent.com/DeGirum/PySDKExamples/main/images/Traffic.mp4\"\n",
    ")\n",
    "cross_line = [(800, 180, 900, 80)]  # [x_start, y_start, x_end, y_end]\n",
    "\n",
    "clip_duration = 30  # frames\n",
    "\n",
    "storage_config = degirum_tools.ObjectStorageConfig(\n",
    "    endpoint=\"./temp\",  # endpoint url, or path to local folder for local storage\n",
    "    access_key=\"\",  # access key for S3-compatible storage\n",
    "    secret_key=\"\",  # secret key for S3-compatible storage\n",
    "    bucket=\"car_wrong_direction\",  # bucket name for S3-compatible storage or subdirectory name for local storage\n",
    ")\n",
    "\n",
    "\n",
    "notification_config = degirum_tools.notification_config_console"
   ]
  },
  {
   "cell_type": "markdown",
   "id": "ebd1b821-e18e-403b-8147-9f95fc6cfa34",
   "metadata": {
    "tags": []
   },
   "source": [
    "#### The rest of the cells below should run without any modifications"
   ]
  },
  {
   "cell_type": "code",
   "execution_count": 3,
   "id": "fea1e8c8",
   "metadata": {
    "tags": []
   },
   "outputs": [],
   "source": [
    "# load model\n",
    "model = dg.load_model(\n",
    "    model_name=model_name,\n",
    "    inference_host_address=hw_location,\n",
    "    zoo_url=model_zoo_url,\n",
    "    token=degirum_tools.get_token(),\n",
    "    overlay_color=[(255, 0, 0)],\n",
    "    overlay_line_width=1,\n",
    "    overlay_show_labels=False,\n",
    ")\n",
    "\n",
    "# bbox anchor point for object tracker and line counter\n",
    "anchor = degirum_tools.AnchorPoint.CENTER\n",
    "\n",
    "# create object tracker\n",
    "object_tracker = degirum_tools.ObjectTracker(\n",
    "    track_thresh=0.35,\n",
    "    track_buffer=100,\n",
    "    match_thresh=0.9999,\n",
    "    trail_depth=20,\n",
    "    anchor_point=anchor,\n",
    ")\n",
    "\n",
    "# create line crossing counter\n",
    "line_counter = degirum_tools.LineCounter(\n",
    "    cross_line,\n",
    "    anchor,\n",
    "    accumulate=False,\n",
    "    show_overlay=True,\n",
    "    annotation_color=(255, 255, 0),\n",
    ")\n",
    "\n",
    "event_name = \"car_moving_wrong_direction\"\n",
    "\n",
    "# create event detector: car crosses a line\n",
    "linecross_detector = degirum_tools.EventDetector(\n",
    "    f\"\"\"\n",
    "    Trigger: {event_name}\n",
    "    when: LineCount\n",
    "    with:\n",
    "        directions: [right]\n",
    "    is greater than: 0\n",
    "    during: [1, frame]\n",
    "    for at least: [1, frame]\n",
    "    \"\"\",\n",
    "    show_overlay=False,\n",
    ")\n",
    "\n",
    "# create event notifier: car crosses line in wrong direction\n",
    "annotation_pos = cross_line[0][:2]\n",
    "linecross_notifier = degirum_tools.EventNotifier(\n",
    "    \"Wrong Direction\",\n",
    "    event_name,\n",
    "    message=\"{time}: {result.events_detected} ({url})\",\n",
    "    annotation_pos=annotation_pos,\n",
    "    annotation_color=(255, 0, 0),\n",
    "    annotation_cool_down=1.0,\n",
    "    notification_config=notification_config,\n",
    "    clip_save=True,\n",
    "    clip_duration=clip_duration,\n",
    "    clip_pre_trigger_delay=clip_duration // 2,\n",
    "    storage_config=storage_config,\n",
    ")\n",
    "\n",
    "# attach zone counter to model\n",
    "degirum_tools.attach_analyzers(\n",
    "    model,\n",
    "    [\n",
    "        object_tracker,\n",
    "        line_counter,\n",
    "        linecross_detector,\n",
    "        linecross_notifier,\n",
    "    ],\n",
    ")\n",
    "\n",
    "# run inference and display results\n",
    "with degirum_tools.Display() as display:\n",
    "    for inference_result in degirum_tools.predict_stream(model, video_source):\n",
    "        display.show(inference_result)\n",
    "        # print(inference_result.line_counts[0].right, inference_result.events_detected, inference_result.notifications)\n",
    "\n",
    "# detach analyzers from model to finalize them\n",
    "degirum_tools.attach_analyzers(model, None)"
   ]
  }
 ],
 "metadata": {
  "kernelspec": {
   "display_name": "base",
   "language": "python",
   "name": "python3"
  },
  "language_info": {
   "codemirror_mode": {
    "name": "ipython",
    "version": 3
   },
   "file_extension": ".py",
   "mimetype": "text/x-python",
   "name": "python",
   "nbconvert_exporter": "python",
   "pygments_lexer": "ipython3",
   "version": "3.9.16"
  }
 },
 "nbformat": 4,
 "nbformat_minor": 5
}
