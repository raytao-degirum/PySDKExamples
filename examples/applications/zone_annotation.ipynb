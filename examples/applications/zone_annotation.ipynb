{
 "cells": [
  {
   "cell_type": "markdown",
   "metadata": {},
   "source": [
    "![Degirum banner](https://raw.githubusercontent.com/DeGirum/PySDKExamples/main/images/degirum_banner.png)\n",
    "## Using DeGirum's GUI annotation tool to annotate zones in an image\n",
    "This notebook demonstrates DeGirum's GUI annotation tool used to create a zones JSON file compatible with the ZoneOccupancyCounter analyzer used in 'parking_management.ipynb'."
   ]
  },
  {
   "cell_type": "code",
   "execution_count": null,
   "metadata": {},
   "outputs": [],
   "source": [
    "# make sure degirum-tools packages are installed\n",
    "!pip show degirum-tools || pip install degirum-tools"
   ]
  },
  {
   "cell_type": "markdown",
   "metadata": {},
   "source": [
    "#### Specify the arguments\n",
    "Provide the name of the JSON file for the annotation utility, as well as the video source from which to obtain the image to annotate."
   ]
  },
  {
   "cell_type": "code",
   "execution_count": null,
   "metadata": {},
   "outputs": [],
   "source": [
    "zones_json_name = \"parking_zones.json\"\n",
    "video_source = \"https://raw.githubusercontent.com/DeGirum/PySDKExamples/main/images/Parking.mp4\"\n",
    "image_name = \"Parking.jpg\""
   ]
  },
  {
   "cell_type": "markdown",
   "metadata": {},
   "source": [
    "#### Obtain a frame from the video to annotate with zones"
   ]
  },
  {
   "cell_type": "code",
   "execution_count": null,
   "metadata": {},
   "outputs": [],
   "source": [
    "# Specify timestamp for a frame in video (in seconds)\n",
    "timestamp = 0"
   ]
  },
  {
   "cell_type": "code",
   "execution_count": null,
   "metadata": {},
   "outputs": [],
   "source": [
    "import cv2\n",
    "import degirum_tools\n",
    "\n",
    "_, _, fps = degirum_tools.get_video_stream_properties(video_source)\n",
    "frame_ind = int(timestamp * fps) + 1\n",
    "i = 0\n",
    "\n",
    "# Obtain frame at specified timestamp\n",
    "with degirum_tools.open_video_stream(video_source) as stream:\n",
    "    for frame in degirum_tools.video_source(stream):\n",
    "        i += 1\n",
    "        if i == frame_ind:\n",
    "            break\n",
    "\n",
    "# Save frame as an image file.\n",
    "cv2.imwrite(image_name, frame)"
   ]
  },
  {
   "cell_type": "markdown",
   "metadata": {},
   "source": [
    "#### Annotate zones\n",
    "Using the GUI annotation tool, define parking zones in an image.\n",
    "\n",
    "When the cell below is run, a window will appear. Left-click the corners of a 4-sided zone, clockwise or counter-clockwise, on the image. Add as many zones as needed, and then click File > Save to save the coordinates to a JSON file. A complete guide on using this tool is available by clicking the Help button in the GUI window. When the annotations are completed, close the GUI window."
   ]
  },
  {
   "cell_type": "code",
   "execution_count": null,
   "metadata": {},
   "outputs": [],
   "source": [
    "degirum_tools.FigureAnnotator(image_path=image_name, results_file_name=zones_json_name)"
   ]
  }
 ],
 "metadata": {
  "kernelspec": {
   "display_name": "base",
   "language": "python",
   "name": "python3"
  },
  "language_info": {
   "codemirror_mode": {
    "name": "ipython",
    "version": 3
   },
   "file_extension": ".py",
   "mimetype": "text/x-python",
   "name": "python",
   "nbconvert_exporter": "python",
   "pygments_lexer": "ipython3",
   "version": "3.10.0"
  },
  "orig_nbformat": 4
 },
 "nbformat": 4,
 "nbformat_minor": 2
}
