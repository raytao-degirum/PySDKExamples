{
 "cells": [
  {
   "cell_type": "markdown",
   "id": "5c15cb24",
   "metadata": {},
   "source": [
    "![Degirum banner](https://raw.githubusercontent.com/DeGirum/PySDKExamples/main/images/degirum_banner.png)\n",
    "## AI Inference on a video stream\n",
    "This notebook is a simple example of how to use DeGirum PySDK to do AI inference on a video stream\n",
    "in effective pipelined manner using batch predict API.\n",
    "\n",
    "This script works with the following inference options:\n",
    "\n",
    "1. Run inference on DeGirum Cloud Platform;\n",
    "2. Run inference on DeGirum AI Server deployed on a localhost or on some computer in your LAN or VPN;\n",
    "3. Run inference on DeGirum ORCA accelerator directly installed on your computer.\n",
    "\n",
    "To try different options, you need to specify the appropriate `hw_location` option. \n",
    "\n",
    "You also need to specify your cloud API access token in `degirum_cloud_token`.\n",
    "\n",
    "You can change `video_source` to index of a local webcamera, or URL of an RTSP stream, or URL of a YouTube video, or path to another video file.\n"
   ]
  },
  {
   "cell_type": "code",
   "execution_count": null,
   "id": "76681f07",
   "metadata": {},
   "outputs": [],
   "source": [
    "# make sure degirum package is installed\n",
    "!pip show degirum || pip install degirum"
   ]
  },
  {
   "cell_type": "markdown",
   "id": "965103da-b8bb-4a02-af4f-6b8a97c58e43",
   "metadata": {
    "tags": []
   },
   "source": [
    "#### Specify where you want to run your inferences, model zoo url, model name and video source"
   ]
  },
  {
   "cell_type": "code",
   "execution_count": null,
   "id": "11422340",
   "metadata": {},
   "outputs": [],
   "source": [
    "# hw_location: where you want to run inference\n",
    "#     \"@cloud\" to use DeGirum cloud\n",
    "#     \"@local\" to run on local machine\n",
    "#     IP address for AI server inference\n",
    "# model_zoo_url: url/path for model zoo\n",
    "#     cloud_zoo_url: valid for @cloud, @local, and ai server inference options\n",
    "#     '': ai server serving models from local folder\n",
    "#     path to json file: single model zoo in case of @local inference\n",
    "# model_name: name of the model for running AI inference\n",
    "# video_source: video source for inference\n",
    "#     camera index for local camera\n",
    "#     URL of RTSP stream\n",
    "#     URL of YouTube Video\n",
    "#     path to video file (mp4 etc)\n",
    "# degirum_cloud_token: your token for accessing the DeGirum cloud platform\n",
    "hw_location = \"@cloud\"\n",
    "model_zoo_url = \"degirum/public\"\n",
    "model_name = \"yolo_v5s_coco--512x512_quant_n2x_orca1_1\"\n",
    "video_source = \"https://raw.githubusercontent.com/DeGirum/PySDKExamples/main/images/example_video.mp4\"\n",
    "degirum_cloud_token = \"<enter your token here>\""
   ]
  },
  {
   "cell_type": "code",
   "execution_count": null,
   "id": "de39353c",
   "metadata": {},
   "outputs": [],
   "source": [
    "# Import the necessary libraries\n",
    "import degirum as dg, cv2\n",
    "\n",
    "# Load the object detection AI model from the model zoo\n",
    "model = dg.load_model(\n",
    "    model_name=model_name,\n",
    "    inference_host_address=hw_location,\n",
    "    zoo_url=model_zoo_url,\n",
    "    token=degirum_cloud_token,       \n",
    ")"
   ]
  },
  {
   "cell_type": "markdown",
   "id": "a35147ac",
   "metadata": {},
   "source": [
    "#### Synchronous Inference\n",
    "The most simple (*yet not the most efficient*) way to run AI inference on a video stream. \n",
    "Each frame from the video source is read and directly processed by the AI model in synchronous non-pipelined manner.\n",
    "The processed frame with AI model's predictions is displayed in a window. "
   ]
  },
  {
   "cell_type": "code",
   "execution_count": null,
   "id": "177a786a",
   "metadata": {},
   "outputs": [],
   "source": [
    "stream = cv2.VideoCapture(video_source)  # open the video stream\n",
    "\n",
    "with model as ml_model:\n",
    "    # wrapping a model in context manager improves performance avoiding re-connections on each inference\n",
    "\n",
    "    while True:\n",
    "        ret, frame = stream.read()  # read a frame from the video stream\n",
    "        if not ret:  # if the frame was not read successfully, break the loop\n",
    "            break\n",
    "\n",
    "        inference_result = ml_model(frame)  # run AI inference\n",
    "\n",
    "        cv2.imshow(\"AI Inference\", inference_result.image_overlay)  # display result\n",
    "\n",
    "        # Process GUI events and break the loop if 'q' key was pressed\n",
    "        if cv2.waitKey(1) & 0xFF == ord(\"q\"):\n",
    "            break\n",
    "\n",
    "\n",
    "cv2.destroyAllWindows()  # destroy any remaining OpenCV windows after the loop finishes\n",
    "stream.release()  # release the video capture object to free up resources"
   ]
  },
  {
   "cell_type": "markdown",
   "id": "3fecf93f",
   "metadata": {},
   "source": [
    "#### Pipelined Inference\n",
    "Efficient way to run AI inference on a video stream using pipelined inference.\n",
    "The video source is wrapped into a generator function, `frame_generator()`. It yields frames to `model.predict_batch()` method,\n",
    "which performs AI predictions in efficient pipelined manner.\n",
    "The processed frame with AI model's predictions is displayed in a window. "
   ]
  },
  {
   "cell_type": "code",
   "execution_count": null,
   "id": "34c78fac",
   "metadata": {},
   "outputs": [],
   "source": [
    "# Define a frame generator: a function that yields frames from the video stream\n",
    "def frame_generator(video_source):\n",
    "    stream = cv2.VideoCapture(video_source)  # open the video stream\n",
    "    try:\n",
    "        while True:\n",
    "            ret, frame = stream.read()  # read a frame from the video stream\n",
    "            if not ret:  # if the frame was not read successfully, break the loop\n",
    "                break\n",
    "            yield frame  # yield the frame\n",
    "    finally:\n",
    "        stream.release()  # finally release the video capture object to free up resources\n",
    "\n",
    "\n",
    "# Process the video stream by AI model using model.predict_batch():\n",
    "# an efficient method for pipelined processing of video streams.\n",
    "# The result is an object that includes the processed frame and other information\n",
    "for result in model.predict_batch(frame_generator(video_source)):\n",
    "\n",
    "    # Display the frame with AI annotations in a window named 'AI Inference'\n",
    "    cv2.imshow(\"AI Inference\", result.image_overlay)\n",
    "\n",
    "    # Process GUI events and break the loop if 'q' key was pressed\n",
    "    if cv2.waitKey(1) & 0xFF == ord(\"q\"):\n",
    "        break\n",
    "\n",
    "cv2.destroyAllWindows()  # destroy any remaining OpenCV windows after the loop finishes"
   ]
  }
 ],
 "metadata": {
  "kernelspec": {
   "display_name": "Python (supervision)",
   "language": "python",
   "name": "supervision"
  },
  "language_info": {
   "codemirror_mode": {
    "name": "ipython",
    "version": 3
   },
   "file_extension": ".py",
   "mimetype": "text/x-python",
   "name": "python",
   "nbconvert_exporter": "python",
   "pygments_lexer": "ipython3",
   "version": "3.9.18"
  }
 },
 "nbformat": 4,
 "nbformat_minor": 5
}
