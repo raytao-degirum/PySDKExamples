{
 "cells": [
  {
   "cell_type": "markdown",
   "id": "5c15cb24",
   "metadata": {},
   "source": [
    "![Degirum banner](https://raw.githubusercontent.com/DeGirum/PySDKExamples/main/images/degirum_banner.png)\n",
    "## AI Inference on image dataset retrieved from a cloud\n",
    "This notebook is an example how to use DeGirum PySDK to do AI inference of an image dataset with evaluation\n",
    "of precision/recall metrics. Image dataset is retrieved from the cloud using `fiftyone` API.\n",
    "\n",
    "This script works with the following inference options:\n",
    "\n",
    "1. Run inference on DeGirum Cloud Platform;\n",
    "2. Run inference on DeGirum AI Server deployed on a localhost or on some computer in your LAN or VPN;\n",
    "3. Run inference on DeGirum ORCA accelerator directly installed on your computer.\n",
    "\n",
    "To try different options, you need to specify the appropriate `hw_location` option. \n",
    "\n",
    "You also need to specify your cloud API access token in `degirum_cloud_token`."
   ]
  },
  {
   "cell_type": "code",
   "execution_count": null,
   "id": "226d4fc1",
   "metadata": {},
   "outputs": [],
   "source": [
    "# make sure degirum-tools package is installed\n",
    "!pip show degirum-tools || pip install degirum-tools\n",
    "!pip show fiftyone || pip install fiftyone"
   ]
  },
  {
   "cell_type": "markdown",
   "id": "01549d7c-2445-4007-8a89-ac0f3a864530",
   "metadata": {
    "tags": []
   },
   "source": [
    "#### Specify where you want to run your inferences and dataset parameters here"
   ]
  },
  {
   "cell_type": "code",
   "execution_count": null,
   "id": "da34df11-cbc7-4b00-8994-794a4a6548b4",
   "metadata": {
    "tags": []
   },
   "outputs": [],
   "source": [
    "# hw_location: where you want to run inference\n",
    "#     \"@cloud\" to use DeGirum cloud\n",
    "#     \"@local\" to run on local machine\n",
    "#     IP address for AI server inference\n",
    "# model_zoo_url: url/path for model zoo\n",
    "#     cloud_zoo_url: valid for @cloud, @local, and ai server inference options\n",
    "#     '': ai server serving models from local folder\n",
    "#     path to json file: single model zoo in case of @local inference\n",
    "# foz_dataset_name: name of desired dataset to retrieve; \n",
    "#     see https://voxel51.com/docs/fiftyone/user_guide/dataset_zoo/datasets.html\n",
    "# foz_classes: list of class labels to retrieve; None for all classes\n",
    "# foz_splits: which splits to download (\"train\", \"validation\", \"test\")\n",
    "# samples_num: number of samples to retrieve from dataset\n",
    "# model_name: name of model to be used for inference\n",
    "hw_location = \"@cloud\"\n",
    "model_zoo_url = \"degirum/public\"\n",
    "foz_dataset_name = \"coco-2017\"\n",
    "foz_classes = None # [\"car\", \"cup\", \"person\"]\n",
    "foz_splits = \"validation\"\n",
    "samples_num = 1000\n",
    "model_name = \"yolo_v5s_coco--512x512_quant_n2x_orca1_1\""
   ]
  },
  {
   "cell_type": "markdown",
   "id": "278d310e-6491-4a6d-a675-76bc6744dd08",
   "metadata": {
    "tags": []
   },
   "source": [
    "#### The rest of the cells below should run without any modifications"
   ]
  },
  {
   "cell_type": "code",
   "execution_count": null,
   "id": "34e36bdd-1b97-4511-8edf-ebff67fe5fd3",
   "metadata": {
    "tags": []
   },
   "outputs": [],
   "source": [
    "import degirum as dg, degirum_tools"
   ]
  },
  {
   "cell_type": "code",
   "execution_count": null,
   "id": "1e8d329b",
   "metadata": {
    "tags": []
   },
   "outputs": [],
   "source": [
    "import sys, IPython, fiftyone as fo\n",
    "\n",
    "# download dataset\n",
    "dataset = fo.zoo.load_zoo_dataset(\n",
    "    foz_dataset_name,\n",
    "    dataset_dir=\"./temp/my-dataset\", \n",
    "    classes=foz_classes,\n",
    "    split=foz_splits,\n",
    "    max_samples=samples_num,\n",
    "    shuffle=True,\n",
    "    drop_existing_dataset=False if 'is_first_run' in globals() else True)\n",
    "print(dataset)\n",
    "is_first_run = False\n",
    "\n",
    "print(\"Extracting dataset samples...\")\n",
    "all_samples = dataset.head(dataset.count()) # retrieve all dataset samples\n",
    "all_files = [s.filepath for s in all_samples]\n",
    "print(\"...done\")"
   ]
  },
  {
   "cell_type": "code",
   "execution_count": null,
   "id": "7476962b",
   "metadata": {
    "tags": []
   },
   "outputs": [],
   "source": [
    "# load model and set low confidence threshold for proper statistics calculation\n",
    "model = dg.load_model(\n",
    "    model_name=model_name, \n",
    "    inference_host_address=hw_location,\n",
    "    zoo_url=model_zoo_url,\n",
    "    token=degirum_tools.get_token(),\n",
    "    output_confidence_threshold = 0.1\n",
    ")\n",
    "     \n",
    "print(\"Running inference:\")\n",
    "progress = degirum_tools.Progress(len(all_files))\n",
    "for n, res in enumerate(model.predict_batch(all_files)):\n",
    "    if model.image_backend == 'pil':\n",
    "        w, h = res.image.size\n",
    "    else: # opencv\n",
    "        w = res.image.shape[1]\n",
    "        h = res.image.shape[0]\n",
    "    \n",
    "    detections = []\n",
    "    for box in res.results:\n",
    "        # Convert to [top-left-x, top-left-y, width, height]\n",
    "        # in relative coordinates in [0, 1] x [0, 1]\n",
    "        x1, y1, x2, y2 = box[\"bbox\"]\n",
    "        rel_box = [x1 / w, y1 / h, (x2 - x1) / w, (y2 - y1) / h]\n",
    "        detections.append(fo.Detection(label=box[\"label\"], bounding_box=rel_box, confidence=box[\"score\"]))\n",
    "    all_samples[n][\"predictions\"] = fo.Detections(detections=detections)\n",
    "    all_samples[n].save()\n",
    "    progress.step()"
   ]
  },
  {
   "cell_type": "code",
   "execution_count": null,
   "id": "93a70378",
   "metadata": {
    "tags": []
   },
   "outputs": [],
   "source": [
    "# run evaluation on predictions\n",
    "eval_result = dataset.evaluate_detections(\"predictions\", classes=foz_classes, compute_mAP=True)\n",
    "\n",
    "# print some evaluation results\n",
    "print( f\"mAP = {eval_result.mAP():.2f}\\n\")\n",
    "eval_result.print_report(classes=foz_classes)"
   ]
  }
 ],
 "metadata": {
  "kernelspec": {
   "display_name": "Python 3 (ipykernel)",
   "language": "python",
   "name": "python3"
  },
  "language_info": {
   "codemirror_mode": {
    "name": "ipython",
    "version": 3
   },
   "file_extension": ".py",
   "mimetype": "text/x-python",
   "name": "python",
   "nbconvert_exporter": "python",
   "pygments_lexer": "ipython3",
   "version": "3.9.16"
  }
 },
 "nbformat": 4,
 "nbformat_minor": 5
}
