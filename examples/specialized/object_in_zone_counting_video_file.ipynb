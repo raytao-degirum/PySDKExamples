{
 "cells": [
  {
   "cell_type": "markdown",
   "id": "5c15cb24",
   "metadata": {},
   "source": [
    "## Object detection and object counting in polygon zone: video file annotation\n",
    "\n",
    "This notebook is an example how to use DeGirum PySDK to do object detection and object \n",
    "counting in polygon zone, annotating video file. The annotated video is saved into new file.\n",
    "\n",
    "This script works with the following inference options:\n",
    "\n",
    "1. Run inference on DeGirum Cloud Platform;\n",
    "2. Run inference on DeGirum AI Server deployed on a localhost or on some computer in your LAN or VPN;\n",
    "3. Run inference on DeGirum ORCA accelerator directly installed on your computer.\n",
    "\n",
    "To try different options, you need to specify the appropriate `hw_location` option.\n",
    "\n",
    "When running this notebook locally, you need to specify your cloud API access token in the [env.ini](../../env.ini) file, located in the same directory as this notebook.\n",
    "\n",
    "When running this notebook in Google Colab, the cloud API access token should be stored in a user secret named `DEGIRUM_CLOUD_TOKEN`."
   ]
  },
  {
   "cell_type": "code",
   "execution_count": null,
   "id": "63cf5555",
   "metadata": {},
   "outputs": [],
   "source": [
    "# make sure degirum-tools package is installed\n",
    "!pip show degirum-tools || pip install degirum-tools"
   ]
  },
  {
   "cell_type": "markdown",
   "id": "01549d7c-2445-4007-8a89-ac0f3a864530",
   "metadata": {
    "tags": []
   },
   "source": [
    "#### Specify where you want run inference, video file name, model name, and other options here"
   ]
  },
  {
   "cell_type": "code",
   "execution_count": null,
   "id": "da34df11-cbc7-4b00-8994-794a4a6548b4",
   "metadata": {
    "tags": []
   },
   "outputs": [],
   "source": [
    "# hw_location: where you want to run inference\n",
    "#     \"@cloud\" to use DeGirum cloud\n",
    "#     \"@local\" to run on local machine\n",
    "#     IP address for AI server inference\n",
    "# model_zoo_url: url/path for model zoo\n",
    "#     cloud_zoo_url: valid for @cloud, @local, and ai server inference options\n",
    "#     '': ai server serving models from local folder\n",
    "#     path to json file: single model zoo in case of @local inference\n",
    "# model_name: name of the model for running AI inference\n",
    "# video_source: video source for inference\n",
    "#     camera index for local camera\n",
    "#     URL of RTSP stream\n",
    "#     URL of YouTube Video\n",
    "#     path to video file (mp4 etc)\n",
    "# polygon_zones: zones in which objects need to be counted\n",
    "# class_list: list of classes to be counted\n",
    "# per_class_display: Boolean to specify if per class counts are to be displayed\n",
    "# ann_path: path to save annotated video\n",
    "hw_location = \"@cloud\"\n",
    "model_zoo_url = \"degirum/public\"\n",
    "model_name = \"yolo_v5s_coco--512x512_quant_n2x_orca1_1\"\n",
    "video_source = \"https://raw.githubusercontent.com/DeGirum/PySDKExamples/main/images/Traffic.mp4\"\n",
    "polygon_zones = [\n",
    "    [[265, 260], [730, 260], [870, 450], [120, 450]],\n",
    "    [[400, 100], [610, 100], [690, 200], [320, 200]],\n",
    "]\n",
    "class_list = [\"car\", \"motorbike\", \"truck\"]\n",
    "per_class_display = True\n",
    "ann_path = \"temp/object_in_zone_counting_video_file.mp4\""
   ]
  },
  {
   "cell_type": "markdown",
   "id": "ebd1b821-e18e-403b-8147-9f95fc6cfa34",
   "metadata": {
    "tags": []
   },
   "source": [
    "#### The rest of the cells below should run without any modifications"
   ]
  },
  {
   "cell_type": "code",
   "execution_count": null,
   "id": "fea1e8c8",
   "metadata": {
    "tags": []
   },
   "outputs": [],
   "source": [
    "import degirum as dg, degirum_tools\n",
    "\n",
    "# load model\n",
    "model = dg.load_model(\n",
    "    model_name=model_name, \n",
    "    inference_host_address=hw_location,\n",
    "    zoo_url=model_zoo_url,\n",
    "    token=degirum_tools.get_token(),\n",
    "    overlay_color=[(255,0,0)]\n",
    ")\n",
    "\n",
    "# create zone counter\n",
    "zone_counter = degirum_tools.ZoneCounter(\n",
    "    polygon_zones,\n",
    "    class_list=class_list,\n",
    "    per_class_display=per_class_display,\n",
    "    triggering_position=degirum_tools.AnchorPoint.CENTER,\n",
    ")\n",
    "\n",
    "# attach zone counter to model\n",
    "degirum_tools.attach_analyzers(model, [zone_counter])\n",
    "\n",
    "# annotate video\n",
    "degirum_tools.annotate_video(model, video_source, ann_path)"
   ]
  },
  {
   "cell_type": "code",
   "execution_count": null,
   "id": "9b2ffa77",
   "metadata": {},
   "outputs": [],
   "source": [
    "# display result\n",
    "degirum_tools.ipython_display(ann_path)"
   ]
  }
 ],
 "metadata": {
  "kernelspec": {
   "display_name": "Python (supervision)",
   "language": "python",
   "name": "supervision"
  },
  "language_info": {
   "codemirror_mode": {
    "name": "ipython",
    "version": 3
   },
   "file_extension": ".py",
   "mimetype": "text/x-python",
   "name": "python",
   "nbconvert_exporter": "python",
   "pygments_lexer": "ipython3",
   "version": "3.9.18"
  }
 },
 "nbformat": 4,
 "nbformat_minor": 5
}
