{
 "cells": [
  {
   "cell_type": "markdown",
   "id": "06f07a3d",
   "metadata": {},
   "source": [
    "![Degirum banner](https://raw.githubusercontent.com/DeGirum/PySDKExamples/main/images/degirum_banner.png)\n",
    "## Multi Object Tracking sample\n",
    "This notebook is an example of how to perform object detection with multi-object tracking (MOT) from a video file to count vehicle traffic. The annotated video is saved into new file.\n",
    "\n",
    "This script works with the following inference options:\n",
    "\n",
    "1. Run inference on DeGirum Cloud Platform;\n",
    "2. Run inference on DeGirum AI Server deployed on a localhost or on some computer in your LAN or VPN;\n",
    "3. Run inference on DeGirum ORCA accelerator directly installed on your computer.\n",
    "\n",
    "To try different options, you need to specify the appropriate `hw_location` option.\n",
    "\n",
    "When running this notebook locally, you need to specify your cloud API access token in the [env.ini](../../env.ini) file, located in the same directory as this notebook.\n",
    "\n",
    "When running this notebook in Google Colab, the cloud API access token should be stored in a user secret named `DEGIRUM_CLOUD_TOKEN`."
   ]
  },
  {
   "cell_type": "code",
   "execution_count": null,
   "id": "0f6e60df",
   "metadata": {},
   "outputs": [],
   "source": [
    "# make sure degirum-tools package and other dependencies are installed\n",
    "!pip show degirum-tools || pip install degirum-tools"
   ]
  },
  {
   "cell_type": "markdown",
   "id": "2d275dc8",
   "metadata": {},
   "source": [
    "#### Specify where you want to run your inferences, model zoo url, model name and image source"
   ]
  },
  {
   "cell_type": "code",
   "execution_count": null,
   "id": "dec502de",
   "metadata": {},
   "outputs": [],
   "source": [
    "# hw_location: where you want to run inference\n",
    "#     @cloud to use DeGirum cloud\n",
    "#     @local to run on local machine\n",
    "#     IP address for AI server inference\n",
    "# model_zoo_url: url/path for model zoo\n",
    "#     cloud_zoo_url: valid for @cloud, @local, and ai server inference options\n",
    "#     '': ai server serving models from local folder\n",
    "#     path to json file: single model zoo in case of @local inference\n",
    "# model_name: name of the model for running AI inference\n",
    "# video_source: video source for inference\n",
    "#     camera index for local camera\n",
    "#     URL of RTSP stream\n",
    "#     URL of YouTube Video\n",
    "#     path to video file (mp4 etc)\n",
    "# ann_path: path to save annotated video\n",
    "hw_location = \"@cloud\"\n",
    "model_zoo_url = \"degirum/public\"\n",
    "model_name = \"yolo_v5s_coco--512x512_quant_n2x_orca1_1\"\n",
    "video_source = \"https://raw.githubusercontent.com/DeGirum/PySDKExamples/main/images/Traffic.mp4\"\n",
    "ann_path = \"temp/multi_object_tracking_video_file.mp4\"\n",
    "counting_lines = [(120, 430, 870, 430), (860, 80, 860, 210)]"
   ]
  },
  {
   "cell_type": "markdown",
   "id": "140d41d1-85f6-442c-a3d3-4a7fafaebcef",
   "metadata": {
    "tags": []
   },
   "source": [
    "#### The rest of the cells below should run without any modifications"
   ]
  },
  {
   "cell_type": "code",
   "execution_count": null,
   "id": "e6121d72",
   "metadata": {
    "tags": []
   },
   "outputs": [],
   "source": [
    "import degirum as dg, degirum_tools\n",
    "\n",
    "# load model\n",
    "model = dg.load_model(\n",
    "    model_name=model_name, \n",
    "    inference_host_address=hw_location,\n",
    "    zoo_url=model_zoo_url,\n",
    "    token=degirum_tools.get_token(),\n",
    "    overlay_color=[(255,0,0)]\n",
    ")\n",
    "\n",
    "# create object tracker\n",
    "tracker = degirum_tools.ObjectTracker(\n",
    "    class_list=[\"car\"],\n",
    "    track_thresh=0.35,\n",
    "    track_buffer=100,\n",
    "    match_thresh=0.9999,\n",
    "    trail_depth=20,\n",
    "    anchor_point=degirum_tools.AnchorPoint.BOTTOM_CENTER,\n",
    ")\n",
    "\n",
    "# create line counter\n",
    "line_counter = degirum_tools.LineCounter(counting_lines)\n",
    "\n",
    "# attach object tracker and line counter to model\n",
    "degirum_tools.attach_analyzers(model, [tracker, line_counter])\n",
    "\n",
    "# annotate video applying object tracker and line counter\n",
    "degirum_tools.annotate_video(model, video_source, ann_path)"
   ]
  },
  {
   "cell_type": "code",
   "execution_count": null,
   "id": "211246e1",
   "metadata": {
    "tags": []
   },
   "outputs": [],
   "source": [
    "# display annotated video\n",
    "degirum_tools.ipython_display(ann_path)"
   ]
  },
  {
   "cell_type": "code",
   "execution_count": null,
   "id": "84d2e42b",
   "metadata": {},
   "outputs": [],
   "source": [
    "# display original video\n",
    "degirum_tools.ipython_display(video_source)"
   ]
  }
 ],
 "metadata": {
  "kernelspec": {
   "display_name": "Python (supervision)",
   "language": "python",
   "name": "supervision"
  },
  "language_info": {
   "codemirror_mode": {
    "name": "ipython",
    "version": 3
   },
   "file_extension": ".py",
   "mimetype": "text/x-python",
   "name": "python",
   "nbconvert_exporter": "python",
   "pygments_lexer": "ipython3",
   "version": "3.9.18"
  }
 },
 "nbformat": 4,
 "nbformat_minor": 5
}
