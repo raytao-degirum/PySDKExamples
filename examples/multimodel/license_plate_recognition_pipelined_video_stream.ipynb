{
 "cells": [
  {
   "cell_type": "markdown",
   "id": "438aa03a",
   "metadata": {},
   "source": [
    "![Degirum banner](https://raw.githubusercontent.com/DeGirum/PySDKExamples/main/images/degirum_banner.png)\n",
    "## This notebook is an example of how to pipeline two models. \n",
    "A video stream from a video source is processed by the license plate detection model. \n",
    "The detection results are then processed by license number recognition model, \n",
    "one bounding box at a time. Combined result is then displayed.\n",
    "\n",
    "This script works with the following inference options:\n",
    "\n",
    "1. Run inference on DeGirum Cloud Platform;\n",
    "2. Run inference on DeGirum AI Server deployed on a localhost or on some computer in your LAN or VPN;\n",
    "3. Run inference on DeGirum ORCA accelerator directly installed on your computer.\n",
    "\n",
    "To try different options, you need to specify the appropriate `hw_location` option. \n",
    "\n",
    "When running this notebook locally, you need to specify your cloud API access token in the [env.ini](../../env.ini) file, located in the same directory as this notebook.\n",
    "\n",
    "When running this notebook in Google Colab, the cloud API access token should be stored in a user secret named `DEGIRUM_CLOUD_TOKEN`."
   ]
  },
  {
   "cell_type": "code",
   "execution_count": null,
   "id": "e3e881e8",
   "metadata": {},
   "outputs": [],
   "source": [
    "# make sure degirum-tools package is installed\n",
    "!pip show degirum-tools || pip install degirum-tools"
   ]
  },
  {
   "cell_type": "markdown",
   "id": "8362097f-2099-4785-a3fc-3ed5d8f9e596",
   "metadata": {},
   "source": [
    "#### Specify where you want to run your inferences, model_zoo_url, model names for license plate detection and OCR, and video source"
   ]
  },
  {
   "cell_type": "code",
   "execution_count": null,
   "id": "65d4cd90",
   "metadata": {
    "tags": []
   },
   "outputs": [],
   "source": [
    "# hw_location: where you want to run inference\n",
    "#     \"@cloud\" to use DeGirum cloud\n",
    "#     \"@local\" to run on local machine\n",
    "#     IP address for AI server inference\n",
    "# model_zoo_url: url/path for model zoo\n",
    "#     cloud_zoo_url: valid for @cloud, @local, and ai server inference options\n",
    "#     '': ai server serving models from local folder\n",
    "#     path to json file: single model zoo in case of @local inference\n",
    "# lp_det_model_name: name of the model for license plate detection\n",
    "# lp_ocr_model_name: name of the model for license plate OCR\n",
    "# video_source: video source for inference\n",
    "#     camera index for local camera\n",
    "#     URL of RTSP stream\n",
    "#     URL of YouTube Video\n",
    "#     path to video file (mp4 etc)\n",
    "hw_location = \"@cloud\"\n",
    "lp_det_model_zoo_url = \"degirum/public\"\n",
    "lp_det_model_name = \"yolo_v5s_lp_det--512x512_quant_n2x_orca1_1\"\n",
    "lp_ocr_model_zoo_url = \"degirum/public\"\n",
    "lp_ocr_model_name = \"yolo_v5s_lp_ocr--256x256_quant_n2x_orca1_1\"\n",
    "video_source = \"https://raw.githubusercontent.com/DeGirum/PySDKExamples/main/images/cars_lp.mp4\""
   ]
  },
  {
   "cell_type": "markdown",
   "id": "efcc5064-809b-4048-87d5-691b613209e8",
   "metadata": {
    "tags": []
   },
   "source": [
    "#### The rest of the cells below should run without any modifications"
   ]
  },
  {
   "cell_type": "code",
   "execution_count": null,
   "id": "1466ef09",
   "metadata": {},
   "outputs": [],
   "source": [
    "import degirum as dg, degirum_tools\n",
    "\n",
    "# Load license plate detection and license plate OCR models\n",
    "lp_det_model=dg.load_model(\n",
    "    model_name=lp_det_model_name,\n",
    "    inference_host_address=hw_location,\n",
    "    zoo_url=lp_det_model_zoo_url,\n",
    "    token=degirum_tools.get_token(),\n",
    ")\n",
    "lp_ocr_model=dg.load_model(\n",
    "    model_name=lp_ocr_model_name,\n",
    "    inference_host_address=hw_location,\n",
    "    zoo_url=lp_ocr_model_zoo_url,\n",
    "    token=degirum_tools.get_token(),\n",
    ")\n",
    "\n",
    "# Create a compound cropping model with 50% crop extent\n",
    "crop_model = degirum_tools.CroppingAndClassifyingCompoundModel(\n",
    "    lp_det_model,\n",
    "    lp_ocr_model,\n",
    "    5.0\n",
    ")\n",
    "\n",
    "# run AI inference on video stream\n",
    "inference_results = degirum_tools.predict_stream(crop_model, video_source)\n",
    "\n",
    "# display inference results\n",
    "# Press 'x' or 'q' to stop\n",
    "with degirum_tools.Display(\"Faces and Gender\") as display:\n",
    "    for inference_result in inference_results:\n",
    "        display.show(inference_result)"
   ]
  }
 ],
 "metadata": {
  "kernelspec": {
   "display_name": "Python (supervision)",
   "language": "python",
   "name": "supervision"
  },
  "language_info": {
   "codemirror_mode": {
    "name": "ipython",
    "version": 3
   },
   "file_extension": ".py",
   "mimetype": "text/x-python",
   "name": "python",
   "nbconvert_exporter": "python",
   "pygments_lexer": "ipython3",
   "version": "3.9.18"
  }
 },
 "nbformat": 4,
 "nbformat_minor": 5
}
