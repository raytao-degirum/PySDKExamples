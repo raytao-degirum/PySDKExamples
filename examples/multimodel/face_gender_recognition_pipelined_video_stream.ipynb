{
 "cells": [
  {
   "cell_type": "markdown",
   "id": "e08e7226",
   "metadata": {},
   "source": [
    "![Degirum banner](https://raw.githubusercontent.com/DeGirum/PySDKExamples/main/images/degirum_banner.png)\n",
    "## This notebook is an example of how to pipeline two models. \n",
    "This notebook is an example of how to use DeGirum PySDK to do AI inference of a video file using \n",
    "two AI models: face detection and gender classification. The face detection model \n",
    "is run on the image and the results are then processed by the gender classification model, \n",
    "one face at a time. Combined result is then displayed.\n",
    "\n",
    "This script works with the following inference options:\n",
    "\n",
    "1. Run inference on DeGirum Cloud Platform;\n",
    "2. Run inference on DeGirum AI Server deployed on a localhost or on some computer in your LAN or VPN;\n",
    "3. Run inference on DeGirum ORCA accelerator directly installed on your computer.\n",
    "\n",
    "To try different options, you need to specify the appropriate `hw_location` option. \n",
    "\n",
    "When running this notebook locally, you need to specify your cloud API access token in the [env.ini](../../env.ini) file, located in the same directory as this notebook.\n",
    "\n",
    "When running this notebook in Google Colab, the cloud API access token should be stored in a user secret named `DEGIRUM_CLOUD_TOKEN`."
   ]
  },
  {
   "cell_type": "code",
   "execution_count": null,
   "id": "babc0f2a",
   "metadata": {},
   "outputs": [],
   "source": [
    "# make sure degirum-tools package is installed\n",
    "!pip show degirum-tools || pip install degirum-tools"
   ]
  },
  {
   "cell_type": "markdown",
   "id": "7960afca-3c84-4794-a8d0-ae894260f40b",
   "metadata": {
    "tags": []
   },
   "source": [
    "#### Specify where do you want to run your inferences"
   ]
  },
  {
   "cell_type": "code",
   "execution_count": null,
   "id": "01889e8e-c81a-4514-a16e-bb13652e61e6",
   "metadata": {
    "tags": []
   },
   "outputs": [],
   "source": [
    "# hw_location: where you want to run inference.\n",
    "#     Use \"@cloud\" to use DeGirum cloud.\n",
    "#     Use \"@local\" to run on local machine.\n",
    "#     Use an IP address for AI server inference.#\n",
    "# face_model_zoo_url: URL/path for the face model zoo.\n",
    "#     Use cloud_zoo_url for @cloud, @local, and AI server inference options.\n",
    "#     Use '' for an AI server serving models from a local folder.\n",
    "#     Use a path to a JSON file for a single model zoo in case of @local inference.#\n",
    "# face_model_name: name of the model for face detection.\n",
    "# gender_model_zoo_url: URL/path for the gender model zoo.\n",
    "# gender_model_name: name of the model for gender detection.\n",
    "# video_source: video source for inference\n",
    "#     camera index for local camera\n",
    "#     URL of RTSP stream\n",
    "#     URL of YouTube Video\n",
    "#     path to video file (mp4 etc)\n",
    "hw_location = \"@cloud\"\n",
    "face_det_model_zoo_url = \"degirum/public\"\n",
    "face_det_model_name = \"yolo_v5s_face_det--512x512_quant_n2x_orca1_1\"\n",
    "gender_cls_model_zoo_url = \"degirum/public\"\n",
    "gender_cls_model_name = \"mobilenetv2_050_gender--160x160_quant_n2x_orca1_1\"\n",
    "video_source = \"https://raw.githubusercontent.com/DeGirum/PySDKExamples/main/images/faces_and_gender.mp4\"  \n",
    "overlay_color=[(255,255,0),(0,255,0)]      "
   ]
  },
  {
   "cell_type": "markdown",
   "id": "9c6d2ce9-610e-4727-a18d-f0467b326d7f",
   "metadata": {
    "tags": []
   },
   "source": [
    "#### The rest of the cells below should run without any modifications"
   ]
  },
  {
   "cell_type": "code",
   "execution_count": null,
   "id": "23a2f817",
   "metadata": {},
   "outputs": [],
   "source": [
    "import degirum as dg, degirum_tools\n",
    "\n",
    "# Load face detection and gender detection models\n",
    "face_det_model = dg.load_model(\n",
    "    model_name=face_det_model_name,\n",
    "    inference_host_address=hw_location,\n",
    "    zoo_url=face_det_model_zoo_url,\n",
    "    token=degirum_tools.get_token(),\n",
    ")\n",
    "face_det_model.overlay_color = overlay_color\n",
    "gender_cls_model = dg.load_model(\n",
    "    model_name=gender_cls_model_name,\n",
    "    inference_host_address=hw_location,\n",
    "    zoo_url=gender_cls_model_zoo_url,\n",
    "    token=degirum_tools.get_token(),\n",
    ")\n",
    "\n",
    "# Create a compound cropping model with 50% crop extent\n",
    "crop_model = degirum_tools.CroppingAndClassifyingCompoundModel(\n",
    "    face_det_model, \n",
    "    gender_cls_model, \n",
    "    50.0\n",
    ")\n",
    "\n",
    "# run AI inference on video stream\n",
    "inference_results = degirum_tools.predict_stream(crop_model, video_source)\n",
    "\n",
    "# display inference results\n",
    "# Press 'x' or 'q' to stop\n",
    "with degirum_tools.Display(\"Faces and Gender\") as display:\n",
    "    for inference_result in inference_results:\n",
    "        display.show(inference_result)\n",
    "            "
   ]
  }
 ],
 "metadata": {
  "kernelspec": {
   "display_name": "Python (supervision)",
   "language": "python",
   "name": "supervision"
  },
  "language_info": {
   "codemirror_mode": {
    "name": "ipython",
    "version": 3
   },
   "file_extension": ".py",
   "mimetype": "text/x-python",
   "name": "python",
   "nbconvert_exporter": "python",
   "pygments_lexer": "ipython3",
   "version": "3.9.18"
  }
 },
 "nbformat": 4,
 "nbformat_minor": 5
}
