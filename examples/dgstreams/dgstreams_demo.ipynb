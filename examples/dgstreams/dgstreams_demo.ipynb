{
 "cells": [
  {
   "cell_type": "markdown",
   "id": "2c66bb0b",
   "metadata": {},
   "source": [
    "## Examples of degirum_tools.streams module usage\n",
    "This notebook contains various examples, which demonstrate the capabilities of degirum_tools.streams module: streaming toolkit for PySDK.\n",
    "\n",
    "The script also uses a video file to run this code. The video file path needs to be specified by defining video_source variable."
   ]
  },
  {
   "cell_type": "code",
   "execution_count": null,
   "id": "f22d6ec0",
   "metadata": {},
   "outputs": [],
   "source": [
    "# make sure degirum-tools package is installed\n",
    "!pip show degirum-tools || pip install degirum-tools"
   ]
  },
  {
   "cell_type": "code",
   "execution_count": 13,
   "id": "0b76d324",
   "metadata": {},
   "outputs": [],
   "source": [
    "# video_source: video source for inference\n",
    "#     camera index for local camera\n",
    "#     URL of RTSP stream\n",
    "#     URL of YouTube Video\n",
    "#     path to video file (mp4 etc)\n",
    "video_source = \"https://raw.githubusercontent.com/DeGirum/PySDKExamples/main/images/example_video.mp4\""
   ]
  },
  {
   "cell_type": "markdown",
   "id": "1077ac0e",
   "metadata": {},
   "source": [
    "### Simplest example: video source is connected to video display"
   ]
  },
  {
   "cell_type": "code",
   "execution_count": null,
   "id": "2008ada1-9b55-4739-aa0c-0e48370625db",
   "metadata": {},
   "outputs": [],
   "source": [
    "from degirum_tools.streams import *\n",
    "\n",
    "# create Composition: an object, which keeps all streaming blocks (called gizmos) and runs them in parallel\n",
    "c = Composition()\n",
    "\n",
    "# create gizmos:\n",
    "source = VideoSourceGizmo(video_source)  # video source gizmo\n",
    "display = VideoDisplayGizmo(\"`q` to exit\", allow_drop=False)  # video display gizmo\n",
    "\n",
    "# Create pipeline: connect display input to source output\n",
    "display.connect_to(source)\n",
    "\n",
    "# add gizmos to composition\n",
    "c.add(source)\n",
    "c.add(display)\n",
    "\n",
    "# start composition\n",
    "c.start()\n",
    "\n",
    "# call c.stop() to stop composition or just press `x` or `q` in display window"
   ]
  },
  {
   "cell_type": "markdown",
   "id": "68c57054",
   "metadata": {},
   "source": [
    "### Same example, but with compact syntax"
   ]
  },
  {
   "cell_type": "code",
   "execution_count": null,
   "id": "d83524ee-f48d-469a-addf-0642f23b1f06",
   "metadata": {},
   "outputs": [],
   "source": [
    "from degirum_tools.streams import *\n",
    "\n",
    "# Create gizmos and pipeline as a single-liner:\n",
    "# we construct composition passing gizmo pipeline as a parameter\n",
    "# and we use `>>` operator of gizmo classes instead of connect_to() method\n",
    "Composition(VideoSourceGizmo(video_source) >> VideoDisplayGizmo()).start()"
   ]
  },
  {
   "cell_type": "markdown",
   "id": "00314218",
   "metadata": {
    "tags": []
   },
   "source": [
    "### Example of forked streams"
   ]
  },
  {
   "cell_type": "code",
   "execution_count": null,
   "id": "8f71adfe-b317-4bd3-ad08-564d10af6f8f",
   "metadata": {},
   "outputs": [],
   "source": [
    "from degirum_tools.streams import *\n",
    "\n",
    "# create and add to composition all required gizmos\n",
    "source = VideoSourceGizmo(video_source)  # video source gizmo\n",
    "display = VideoDisplayGizmo([\"Original\", \"Resized\"])  # two-input display gizmo\n",
    "resizer = ResizingGizmo(300, 200)  # resizing gizmo\n",
    "\n",
    "# Create pipeline: the image source is connected to a display input 0. \n",
    "# Also it is connected to the image resizing gizmo which is then connected to display input 1.\n",
    "# Both pipelines are passed to the Composition object constructor.\n",
    "# Note, how `[]` operator is used to select the input of display gizmo to connect to.\n",
    "Composition(source >> display[0], source >> resizer >> display[1]).start()"
   ]
  },
  {
   "cell_type": "markdown",
   "id": "afe7b1d0-5cd7-4020-84b4-a2cd0dfec911",
   "metadata": {
    "tags": []
   },
   "source": [
    "### Example of capturing video input into file with simultaneous display on a screen"
   ]
  },
  {
   "cell_type": "code",
   "execution_count": null,
   "id": "c0a77196-f465-495b-b511-65a10ae15b49",
   "metadata": {},
   "outputs": [],
   "source": [
    "from degirum_tools.streams import *\n",
    "\n",
    "# create gizmos\n",
    "source = VideoSourceGizmo(video_source)\n",
    "display = VideoDisplayGizmo()\n",
    "saver = VideoSaverGizmo(\"temp/mycapture.mp4\")\n",
    "\n",
    "# create pipeline and composition, then start it\n",
    "Composition(source >> display, source >> saver).start()"
   ]
  },
  {
   "cell_type": "markdown",
   "id": "fe09275e-8fb5-47b8-911f-6cd625680556",
   "metadata": {
    "tags": []
   },
   "source": [
    "### Example of AI inference from the camera with AI inference results display\n",
    "\n",
    "This script works with the following inference options:\n",
    "\n",
    "1. Run inference on DeGirum Cloud Platform;\n",
    "2. Run inference on DeGirum AI Server deployed on a localhost or on some computer in your LAN or VPN;\n",
    "3. Run inference on DeGirum ORCA accelerator directly installed on your computer.\n",
    "\n",
    "To try different options, you need to specify the appropriate `hw_location` option. \n",
    "\n",
    "When running this notebook locally, you need to specify your cloud API access token in the [env.ini](../../env.ini) file, located in the same directory as this notebook.\n",
    "\n",
    "When running this notebook in Google Colab, the cloud API access token should be stored in a user secret named `DEGIRUM_CLOUD_TOKEN`."
   ]
  },
  {
   "cell_type": "code",
   "execution_count": 18,
   "id": "193a0c25",
   "metadata": {},
   "outputs": [],
   "source": [
    "# hw_location: where you want to run inference\n",
    "#     \"@cloud\" to use DeGirum cloud\n",
    "#     \"@local\" to run on local machine\n",
    "#     IP address for AI server inference\n",
    "# model_zoo_url: url/path for model zoo\n",
    "#     cloud_zoo_url: valid for @cloud, @local, and ai server inference options\n",
    "#     '': ai server serving models from local folder\n",
    "#     path to json file: single model zoo in case of @local inference\n",
    "# model_name: name of the model for running AI inference\n",
    "hw_location = \"@cloud\"\n",
    "model_zoo_url = \"degirum/public\"\n",
    "model_name = \"yolo_v5s_coco--512x512_quant_n2x_orca1_1\""
   ]
  },
  {
   "cell_type": "code",
   "execution_count": null,
   "id": "236df882-756f-481e-bb28-f4290286b904",
   "metadata": {},
   "outputs": [],
   "source": [
    "import degirum as dg, degirum_tools\n",
    "from degirum_tools.streams import *\n",
    "\n",
    "# load some object detection AI model\n",
    "model = dg.load_model(\n",
    "    model_name=model_name,\n",
    "    inference_host_address=hw_location,\n",
    "    zoo_url=model_zoo_url,\n",
    "    token=degirum_tools.get_token(),\n",
    ")\n",
    "\n",
    "# create gizmos\n",
    "source = VideoSourceGizmo(video_source)  # video source\n",
    "detection = AiSimpleGizmo(model)  # AI model\n",
    "display = VideoDisplayGizmo(\"Detection\", show_ai_overlay=True, show_fps=True)  # display\n",
    "\n",
    "# create pipeline and composition, then start it\n",
    "Composition(source >> detection >> display).start()"
   ]
  },
  {
   "attachments": {},
   "cell_type": "markdown",
   "id": "3eadf612-390e-4cd4-9dc3-94fd77b3869c",
   "metadata": {
    "tags": []
   },
   "source": [
    "### Example of AI inference with separate pre-processing stage\n",
    "\n",
    "Frames from the camera are supplied to the object detection model preprocessor and then to the object detection model\n",
    "itself. This improves performance by allowing the image resizing preprocessor to run in a separate thread.\n",
    "\n",
    "This script works with the following inference options:\n",
    "\n",
    "1. Run inference on DeGirum Cloud Platform;\n",
    "2. Run inference on DeGirum AI Server deployed on a localhost or on some computer in your LAN or VPN;\n",
    "3. Run inference on DeGirum ORCA accelerator directly installed on your computer.\n",
    "\n",
    "To try different options, you need to specify the appropriate `hw_location` option. \n",
    "\n",
    "When running this notebook locally, you need to specify your cloud API access token in the [env.ini](../../env.ini) file, located in the same directory as this notebook.\n",
    "\n",
    "When running this notebook in Google Colab, the cloud API access token should be stored in a user secret named `DEGIRUM_CLOUD_TOKEN`."
   ]
  },
  {
   "cell_type": "code",
   "execution_count": 20,
   "id": "2d31645f",
   "metadata": {},
   "outputs": [],
   "source": [
    "# hw_location: where you want to run inference\n",
    "#     \"@cloud\" to use DeGirum cloud\n",
    "#     \"@local\" to run on local machine\n",
    "#     IP address for AI server inference\n",
    "# model_zoo_url: url/path for model zoo\n",
    "#     cloud_zoo_url: valid for @cloud, @local, and ai server inference options\n",
    "#     '': ai server serving models from local folder\n",
    "#     path to json file: single model zoo in case of @local inference\n",
    "# model_name: name of the model for running AI inference\n",
    "hw_location = \"@cloud\"\n",
    "model_zoo_url = \"degirum/public\"\n",
    "model_name = \"yolo_v5s_coco--512x512_quant_n2x_orca1_1\""
   ]
  },
  {
   "cell_type": "code",
   "execution_count": null,
   "id": "8608dd98-f64e-4a8e-b862-0f378f877cf6",
   "metadata": {},
   "outputs": [],
   "source": [
    "import degirum as dg, degirum_tools\n",
    "from degirum_tools.streams import *\n",
    "\n",
    "# load some object detection AI model\n",
    "model = dg.load_model(\n",
    "    model_name=model_name,\n",
    "    inference_host_address=hw_location,\n",
    "    zoo_url=model_zoo_url,\n",
    "    token=degirum_tools.get_token(),\n",
    ")\n",
    "\n",
    "# create gizmos\n",
    "source = VideoSourceGizmo(video_source)  # video source\n",
    "preprocessor = AiPreprocessGizmo(model)  # AI model preprocessor\n",
    "detection = AiSimpleGizmo(model)  # AI model\n",
    "display = VideoDisplayGizmo(\"Objects\", show_ai_overlay=True, show_fps=True)  # display\n",
    "\n",
    "# create pipeline and composition, then start it\n",
    "Composition(source >> preprocessor >> detection >> display).start()"
   ]
  },
  {
   "cell_type": "code",
   "execution_count": null,
   "id": "596abdcf",
   "metadata": {},
   "outputs": [],
   "source": []
  }
 ],
 "metadata": {
  "kernelspec": {
   "display_name": "base",
   "language": "python",
   "name": "python3"
  },
  "language_info": {
   "codemirror_mode": {
    "name": "ipython",
    "version": 3
   },
   "file_extension": ".py",
   "mimetype": "text/x-python",
   "name": "python",
   "nbconvert_exporter": "python",
   "pygments_lexer": "ipython3",
   "version": "3.9.16"
  }
 },
 "nbformat": 4,
 "nbformat_minor": 5
}
