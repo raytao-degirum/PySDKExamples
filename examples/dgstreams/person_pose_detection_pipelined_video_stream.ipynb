{
 "cells": [
  {
   "cell_type": "markdown",
   "id": "438aa03a",
   "metadata": {},
   "source": [
    "![Degirum banner](https://raw.githubusercontent.com/DeGirum/PySDKExamples/main/images/degirum_banner.png)\n",
    "## This notebook is an example of how to pipeline two models. \n",
    "A video stream from a local camera is processed by the person detection model. The person detection results are then processed by the pose detection model, one person bounding box at a time. Combined result is then displayed.\n",
    "\n",
    "This example uses `degirum_tools.streams` streaming toolkit.\n",
    "\n",
    "This script works with the following inference options:\n",
    "\n",
    "1. Run inference on DeGirum Cloud Platform;\n",
    "2. Run inference on DeGirum AI Server deployed on a localhost or on some computer in your LAN or VPN;\n",
    "3. Run inference on DeGirum ORCA accelerator directly installed on your computer.\n",
    "\n",
    "To try different options, you need to specify the appropriate `hw_location` option. \n",
    "\n",
    "When running this notebook locally, you need to specify your cloud API access token in the [env.ini](../../env.ini) file, located in the same directory as this notebook.\n",
    "\n",
    "When running this notebook in Google Colab, the cloud API access token should be stored in a user secret named `DEGIRUM_CLOUD_TOKEN`.\n",
    "\n",
    "The script can use either a web camera or local camera connected to the machine or a video file. The camera index or URL or video file path needs to be specified in the code below by assigning `video_source`."
   ]
  },
  {
   "cell_type": "code",
   "execution_count": null,
   "id": "88e17ec2",
   "metadata": {},
   "outputs": [],
   "source": [
    "# make sure degirum-tools package is installed\n",
    "!pip show degirum-tools || pip install degirum-tools"
   ]
  },
  {
   "cell_type": "markdown",
   "id": "3ac1ad6f-2290-44fe-bcfd-4715f594ce57",
   "metadata": {
    "tags": []
   },
   "source": [
    "#### Specify where do you want to run your inferences, model_zoo_url, model names for inference, and video source"
   ]
  },
  {
   "cell_type": "code",
   "execution_count": null,
   "id": "6d33374c-e516-4b5f-b306-d18bf6392c52",
   "metadata": {
    "tags": []
   },
   "outputs": [],
   "source": [
    "# hw_location: where you want to run inference\n",
    "#     \"@cloud\" to use DeGirum cloud\n",
    "#     \"@local\" to run on local machine\n",
    "#     IP address for AI server inference\n",
    "# model_zoo_url: url/path for model zoo\n",
    "#     cloud_zoo_url: valid for @cloud, @local, and ai server inference options\n",
    "#     '': ai server serving models from local folder\n",
    "#     path to json file: single model zoo in case of @local inference\n",
    "# people_det_model_name: name of the model for detecting people\n",
    "# pose_det_model_name: name of the model for pose detection\n",
    "# video_source: video source for inference\n",
    "#     camera index for local camera\n",
    "#     URL of RTSP stream\n",
    "#     URL of YouTube Video\n",
    "#     path to video file (mp4 etc)\n",
    "hw_location = \"@cloud\"\n",
    "model_zoo_url = \"degirum/public\"\n",
    "people_det_model_name = \"yolo_v5s_person_det--512x512_quant_n2x_orca1_1\"\n",
    "pose_det_model_name = \"mobilenet_v1_posenet_coco_keypoints--353x481_quant_n2x_orca1_1\"\n",
    "video_source = \"https://raw.githubusercontent.com/DeGirum/PySDKExamples/main/images/person_pose.mp4\""
   ]
  },
  {
   "cell_type": "markdown",
   "id": "e036ab35-cc8f-4e67-bf5b-f01c470db2a4",
   "metadata": {
    "tags": []
   },
   "source": [
    "#### The rest of the cells below should run without any modifications"
   ]
  },
  {
   "cell_type": "code",
   "execution_count": null,
   "id": "65d4cd90",
   "metadata": {
    "tags": []
   },
   "outputs": [],
   "source": [
    "import degirum as dg, degirum_tools\n",
    "from degirum_tools import streams as dgstreams\n",
    "\n",
    "# connect to AI inference engine\n",
    "zoo = dg.connect(hw_location, model_zoo_url, degirum_tools.get_token())\n",
    "# load people det model and pose det model\n",
    "people_det_model = dg.load_model(\n",
    "    model_name= people_det_model_name, \n",
    "    inference_host_address=hw_location,\n",
    "    zoo_url=model_zoo_url,\n",
    "    token=degirum_tools.get_token(),\n",
    "    overlay_show_probabilities=True\n",
    ")\n",
    "pose_det_model = dg.load_model(\n",
    "    model_name=pose_det_model_name,\n",
    "    inference_host_address=hw_location,\n",
    "    zoo_url=model_zoo_url,\n",
    "    token=degirum_tools.get_token(),\n",
    "    output_pose_threshold=0.2,\n",
    "    overlay_line_width=1,\n",
    "    overlay_alpha=1,\n",
    "    overlay_show_labels=False,\n",
    "    overlay_color=(255, 0, 0),\n",
    ")"
   ]
  },
  {
   "cell_type": "code",
   "execution_count": null,
   "id": "edac9c92-0100-4c13-aafd-d81f65176958",
   "metadata": {
    "tags": []
   },
   "outputs": [],
   "source": [
    "# Define pose detection gizmo (in degirum_tools.streams terminology)\n",
    "class PoseDetectionGizmo(dgstreams.AiGizmoBase):\n",
    "    def __init__(self, *args, **kwargs):\n",
    "        super().__init__(*args, **kwargs)\n",
    "        self._cur_result = None\n",
    "\n",
    "    def on_result(self, result):\n",
    "        # here result.info contains StreamData object used for AI inference (because AiGizmoBase does it this way);\n",
    "        # and result.info.meta contains metainfo dictionary placed by AiObjectDetectionCroppingGizmo,\n",
    "        # because in our pipeline it is connected as a source of this gizmo\n",
    "        meta = result.info\n",
    "        if \"original_result\" in meta:  # new frame comes\n",
    "            if self._cur_result is not None:\n",
    "                # send previous frame\n",
    "                self.send_result(\n",
    "                    dgstreams.StreamData(self._cur_result.image, self._cur_result)\n",
    "                )\n",
    "\n",
    "            # save first pose result object at the beginning of new frame in order to accumulate all poses into it\n",
    "            self._cur_result = result\n",
    "            # replace original image with full annotated image which came from person detector to show person boxes as well as poses\n",
    "            self._cur_result._input_image = meta[\"original_result\"].image_overlay\n",
    "\n",
    "        if \"cropped_index\" in meta and \"cropped_result\" in meta:\n",
    "            # convert pose coordinates to back to original image\n",
    "            box = meta[\"cropped_result\"][\"bbox\"]\n",
    "            for r in result.results:\n",
    "                if \"landmarks\" in r:\n",
    "                    for p in r[\"landmarks\"]:\n",
    "                        p[\"landmark\"][0] += box[0]\n",
    "                        p[\"landmark\"][1] += box[1]\n",
    "\n",
    "            if self._cur_result != result:\n",
    "                # accumulate all other detected poses into current result object\n",
    "                self._cur_result._inference_results += result.results"
   ]
  },
  {
   "cell_type": "code",
   "execution_count": null,
   "id": "bf099d64-6388-4aa7-aee5-767615d8996a",
   "metadata": {
    "tags": []
   },
   "outputs": [],
   "source": [
    "# create composition object\n",
    "c = dgstreams.Composition()\n",
    "\n",
    "# create gizmos adding them to composition\n",
    "source = c.add(dgstreams.VideoSourceGizmo(video_source))  # video source\n",
    "people_detection = c.add(\n",
    "    dgstreams.AiSimpleGizmo(people_det_model)\n",
    ")  # people detection gizmo\n",
    "person_crop = c.add(\n",
    "    dgstreams.AiObjectDetectionCroppingGizmo([\"person\"])\n",
    ")  # cropping gizmo, which outputs cropped image for each detected person\n",
    "pose_detection = c.add(PoseDetectionGizmo(pose_det_model))  # pose detection gizmo\n",
    "display = c.add(\n",
    "    dgstreams.VideoDisplayGizmo(\"Person Poses\", show_ai_overlay=True, show_fps=True)\n",
    ")  # display\n",
    "\n",
    "# connect gizmos to create pipeline\n",
    "source >> people_detection\n",
    "person_crop.connect_to(source, 0)\n",
    "person_crop.connect_to(people_detection, 1)\n",
    "person_crop >> pose_detection >> display\n",
    "\n",
    "# start execution of composition\n",
    "c.start()"
   ]
  }
 ],
 "metadata": {
  "kernelspec": {
   "display_name": "Python (supervision)",
   "language": "python",
   "name": "supervision"
  },
  "language_info": {
   "codemirror_mode": {
    "name": "ipython",
    "version": 3
   },
   "file_extension": ".py",
   "mimetype": "text/x-python",
   "name": "python",
   "nbconvert_exporter": "python",
   "pygments_lexer": "ipython3",
   "version": "3.9.18"
  }
 },
 "nbformat": 4,
 "nbformat_minor": 5
}
