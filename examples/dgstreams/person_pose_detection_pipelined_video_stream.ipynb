{
 "cells": [
  {
   "cell_type": "markdown",
   "id": "438aa03a",
   "metadata": {},
   "source": [
    "![Degirum banner](https://raw.githubusercontent.com/DeGirum/PySDKExamples/main/images/degirum_banner.png)\n",
    "## This notebook is an example of how to pipeline two models. \n",
    "A video stream is processed by the person detection model. The person detection results are then processed by the pose detection model, one person bounding box at a time. Combined result is then displayed.\n",
    "\n",
    "This example uses `degirum_tools.streams` streaming toolkit.\n",
    "\n",
    "This script works with the following inference options:\n",
    "\n",
    "1. Run inference on DeGirum Cloud Platform;\n",
    "2. Run inference on DeGirum AI Server deployed on a localhost or on some computer in your LAN or VPN;\n",
    "3. Run inference on DeGirum ORCA accelerator directly installed on your computer.\n",
    "\n",
    "To try different options, you need to specify the appropriate `hw_location` option. \n",
    "\n",
    "When running this notebook locally, you need to specify your cloud API access token in the [env.ini](../../env.ini) file, located in the same directory as this notebook.\n",
    "\n",
    "When running this notebook in Google Colab, the cloud API access token should be stored in a user secret named `DEGIRUM_CLOUD_TOKEN`.\n",
    "\n",
    "The script can use either a web camera or local camera connected to the machine or a video file. The camera index or URL or video file path needs to be specified in the code below by assigning `video_source`."
   ]
  },
  {
   "cell_type": "code",
   "execution_count": 1,
   "id": "88e17ec2",
   "metadata": {},
   "outputs": [],
   "source": [
    "# make sure degirum-tools package is installed\n",
    "!pip show degirum-tools || pip install degirum-tools"
   ]
  },
  {
   "cell_type": "markdown",
   "id": "3ac1ad6f-2290-44fe-bcfd-4715f594ce57",
   "metadata": {
    "tags": []
   },
   "source": [
    "#### Specify where do you want to run your inferences, model_zoo_url, model names for inference, and video source"
   ]
  },
  {
   "cell_type": "code",
   "execution_count": 9,
   "id": "6d33374c-e516-4b5f-b306-d18bf6392c52",
   "metadata": {
    "tags": []
   },
   "outputs": [],
   "source": [
    "# hw_location: where you want to run inference\n",
    "#     \"@cloud\" to use DeGirum cloud\n",
    "#     \"@local\" to run on local machine\n",
    "#     IP address for AI server inference\n",
    "# model_zoo_url: url/path for model zoo\n",
    "#     cloud_zoo_url: valid for @cloud, @local, and ai server inference options\n",
    "#     '': ai server serving models from local folder\n",
    "#     path to json file: single model zoo in case of @local inference\n",
    "# people_det_model_name: name of the model for detecting people\n",
    "# pose_det_model_name: name of the model for pose detection\n",
    "# video_source: video source for inference\n",
    "#     camera index for local camera\n",
    "#     URL of RTSP stream\n",
    "#     URL of YouTube Video\n",
    "#     path to video file (mp4 etc)\n",
    "hw_location = \"@cloud\"\n",
    "model_zoo_url = \"degirum/public\"\n",
    "people_det_model_name = \"yolo_v5s_person_det--512x512_quant_n2x_orca1_1\"\n",
    "pose_det_model_name = \"mobilenet_v1_posenet_coco_keypoints--353x481_quant_n2x_orca1_1\"\n",
    "video_source = \"https://raw.githubusercontent.com/DeGirum/PySDKExamples/main/images/WalkingPeople.mp4\""
   ]
  },
  {
   "cell_type": "markdown",
   "id": "e036ab35-cc8f-4e67-bf5b-f01c470db2a4",
   "metadata": {
    "tags": []
   },
   "source": [
    "#### The rest of the cells below should run without any modifications"
   ]
  },
  {
   "cell_type": "code",
   "execution_count": 12,
   "id": "65d4cd90",
   "metadata": {
    "tags": []
   },
   "outputs": [],
   "source": [
    "import degirum as dg, degirum_tools\n",
    "from degirum_tools import streams as dgstreams\n",
    "\n",
    "# connect to AI inference engine\n",
    "zoo = dg.connect(hw_location, model_zoo_url, degirum_tools.get_token())\n",
    "\n",
    "# load person detection model\n",
    "person_det_model = zoo.load_model(\n",
    "    people_det_model_name,\n",
    "    output_confidence_threshold=0.7,\n",
    "    overlay_show_probabilities=True,\n",
    "    overlay_line_width=1,\n",
    ")\n",
    "\n",
    "# load pose detection model\n",
    "pose_det_model = zoo.load_model(\n",
    "    pose_det_model_name,\n",
    "    output_pose_threshold=0.2,\n",
    "    overlay_line_width=1,\n",
    "    overlay_show_labels=False,\n",
    "    overlay_color=(255, 0, 0),\n",
    ")"
   ]
  },
  {
   "cell_type": "code",
   "execution_count": null,
   "id": "bf099d64-6388-4aa7-aee5-767615d8996a",
   "metadata": {
    "tags": []
   },
   "outputs": [],
   "source": [
    "# create gizmos\n",
    "\n",
    "source = dgstreams.VideoSourceGizmo(video_source)  # video source\n",
    "person = dgstreams.AiSimpleGizmo(person_det_model)  # person detector\n",
    "crop = dgstreams.AiObjectDetectionCroppingGizmo(  # cropper\n",
    "    [person_det_model.label_dictionary[0]], crop_extent=10.0\n",
    ")\n",
    "pose = dgstreams.AiSimpleGizmo(pose_det_model)  # pose detector\n",
    "combiner = dgstreams.CropCombiningGizmo()  # combiner\n",
    "display = dgstreams.VideoDisplayGizmo(  # display\n",
    "    \"Poses\", show_ai_overlay=True, show_fps=True\n",
    ")\n",
    "\n",
    "# create pipeline and composition, then start it\n",
    "dgstreams.Composition(\n",
    "    source >> person >> crop >> pose >> combiner[1] >> display, person >> combiner[0]\n",
    ").start()"
   ]
  },
  {
   "cell_type": "code",
   "execution_count": null,
   "id": "2b892ead",
   "metadata": {},
   "outputs": [],
   "source": []
  }
 ],
 "metadata": {
  "kernelspec": {
   "display_name": "base",
   "language": "python",
   "name": "python3"
  },
  "language_info": {
   "codemirror_mode": {
    "name": "ipython",
    "version": 3
   },
   "file_extension": ".py",
   "mimetype": "text/x-python",
   "name": "python",
   "nbconvert_exporter": "python",
   "pygments_lexer": "ipython3",
   "version": "3.9.16"
  }
 },
 "nbformat": 4,
 "nbformat_minor": 5
}
